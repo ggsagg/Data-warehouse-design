{
 "cells": [
  {
   "cell_type": "code",
   "execution_count": null,
   "id": "d27a55a5",
   "metadata": {},
   "outputs": [],
   "source": [
    "import collections"
   ]
  },
  {
   "cell_type": "code",
   "execution_count": null,
   "id": "a4bdc953",
   "metadata": {
    "scrolled": true
   },
   "outputs": [],
   "source": [
    "%run Conexion_BBDD.ipynb"
   ]
  },
  {
   "cell_type": "code",
   "execution_count": null,
   "id": "a0f81e1d",
   "metadata": {},
   "outputs": [],
   "source": [
    "df_aerolineas = pd.read_csv(\"input/aerolineas.csv\")\n",
    "df_aeropuertos = pd.read_csv(\"input/aeropuertos.csv\")\n",
    "df_countries = pd.read_csv(\"input/countries.csv\")\n",
    "df_equipamientos = pd.read_csv(\"input/equipamientos.csv\", sep=\";\")\n",
    "df_paises = pd.read_excel(\"input/paises.xls\")\n",
    "df_rutas = pd.read_json(\"input/rutas.json\")"
   ]
  },
  {
   "cell_type": "markdown",
   "id": "666b737e",
   "metadata": {},
   "source": [
    "## Carga DM_Pais"
   ]
  },
  {
   "cell_type": "code",
   "execution_count": null,
   "id": "141d78f2",
   "metadata": {
    "scrolled": false
   },
   "outputs": [],
   "source": [
    "df_paises['cod_continente'] = df_paises['cod_continente'].fillna(\"NA\")"
   ]
  },
  {
   "cell_type": "code",
   "execution_count": null,
   "id": "f8251d05",
   "metadata": {},
   "outputs": [],
   "source": [
    "df_paises = df_paises.drop_duplicates(subset='cod_pais2', keep='first')"
   ]
  },
  {
   "cell_type": "code",
   "execution_count": null,
   "id": "00f3ceae",
   "metadata": {},
   "outputs": [],
   "source": [
    "df_paises = pd.merge(left=df_paises, right=df_countries,\n",
    "                      how='left', left_on='cod_pais2', right_on='country')"
   ]
  },
  {
   "cell_type": "code",
   "execution_count": null,
   "id": "7c9c36aa",
   "metadata": {},
   "outputs": [],
   "source": [
    "df_pais_def = df_paises[['cod_pais', \n",
    "                         'desc_pais', \n",
    "                         'cod_pais2',\n",
    "                         'cod_continente', \n",
    "                         'desc_continente', \n",
    "                         'longitude', \n",
    "                         'latitude', ]]"
   ]
  },
  {
   "cell_type": "code",
   "execution_count": null,
   "id": "22093e5c",
   "metadata": {},
   "outputs": [],
   "source": [
    "df_pais_def = df_pais_def.rename(columns={\"desc_pais\": \"pais\", \"desc_continente\":\"continente\", \"longitude\": \"longitud\",\n",
    "                                          \"latitude\": \"latitud\"})"
   ]
  },
  {
   "cell_type": "markdown",
   "id": "0dd716c9",
   "metadata": {},
   "source": [
    "La siguiente celda puede dar error si se ejecuta por segunda vez"
   ]
  },
  {
   "cell_type": "code",
   "execution_count": null,
   "id": "6c5b57a2",
   "metadata": {},
   "outputs": [],
   "source": [
    "df_pais_def.to_sql('DM_PAIS', con = conn, if_exists = 'append', index=False)"
   ]
  },
  {
   "cell_type": "code",
   "execution_count": null,
   "id": "04ef4905",
   "metadata": {
    "scrolled": true
   },
   "outputs": [],
   "source": [
    "%sql select * from DM_PAIS"
   ]
  },
  {
   "cell_type": "markdown",
   "id": "a8e71c09",
   "metadata": {},
   "source": [
    "Comprobaciones de carga"
   ]
  },
  {
   "cell_type": "code",
   "execution_count": null,
   "id": "b862333c",
   "metadata": {},
   "outputs": [],
   "source": [
    "count_df = df_pais_def.count()\n",
    "count_df"
   ]
  },
  {
   "cell_type": "code",
   "execution_count": null,
   "id": "9b81ef2b",
   "metadata": {},
   "outputs": [],
   "source": [
    "count_tab = %sql select count(*) from DM_PAIS\n",
    "count_tab"
   ]
  },
  {
   "cell_type": "code",
   "execution_count": null,
   "id": "e18ea5fa",
   "metadata": {},
   "outputs": [],
   "source": [
    "res = %sql select * from DM_PAIS where cod_pais2 in ('AL', 'AD')"
   ]
  },
  {
   "cell_type": "code",
   "execution_count": null,
   "id": "acd417cb",
   "metadata": {},
   "outputs": [],
   "source": [
    "df1 = res.DataFrame()"
   ]
  },
  {
   "cell_type": "code",
   "execution_count": null,
   "id": "931e60d5",
   "metadata": {},
   "outputs": [],
   "source": [
    "df1"
   ]
  },
  {
   "cell_type": "code",
   "execution_count": null,
   "id": "1746814e",
   "metadata": {},
   "outputs": [],
   "source": [
    "db_query = \"\"\"\n",
    "select cod_pais, pais, \n",
    "    continente\n",
    "from DM_PAIS \n",
    "    where cod_continente = 'EU';\"\"\""
   ]
  },
  {
   "cell_type": "code",
   "execution_count": null,
   "id": "1d4fe0db",
   "metadata": {},
   "outputs": [],
   "source": [
    "res = %sql $db_query\n",
    "res"
   ]
  },
  {
   "cell_type": "markdown",
   "id": "7795cb31",
   "metadata": {},
   "source": [
    "## Carga DM_AEROPUERTO"
   ]
  },
  {
   "cell_type": "code",
   "execution_count": null,
   "id": "2b758db3",
   "metadata": {},
   "outputs": [],
   "source": [
    "df_aeropuertos[df_aeropuertos[\"cod_icao\"].isnull()].head(10)"
   ]
  },
  {
   "cell_type": "code",
   "execution_count": null,
   "id": "77e29820",
   "metadata": {},
   "outputs": [],
   "source": [
    "df_aeropuertos[\"cod_iata_faa\"] = df_aeropuertos[\"cod_iata_faa\"].fillna(\"Z99\")"
   ]
  },
  {
   "cell_type": "code",
   "execution_count": null,
   "id": "11266949",
   "metadata": {},
   "outputs": [],
   "source": [
    "df_aeropuertos[\"cod_icao\"] = df_aeropuertos[\"cod_icao\"].fillna(\"Z999\")"
   ]
  },
  {
   "cell_type": "code",
   "execution_count": null,
   "id": "c3514bdd",
   "metadata": {},
   "outputs": [],
   "source": [
    "aer_pais_list = df_aeropuertos[\"cod_pais\"].unique().tolist()"
   ]
  },
  {
   "cell_type": "code",
   "execution_count": null,
   "id": "e1383278",
   "metadata": {},
   "outputs": [],
   "source": [
    "pais_list = df_pais_def[\"cod_pais\"].unique().tolist()"
   ]
  },
  {
   "cell_type": "markdown",
   "id": "e150c346",
   "metadata": {},
   "source": [
    "Comprobamos que tienen los mismos codigos de pais, obtenemos un resultado negativo"
   ]
  },
  {
   "cell_type": "code",
   "execution_count": null,
   "id": "5c308537",
   "metadata": {},
   "outputs": [],
   "source": [
    "collections.Counter(aer_pais_list) == collections.Counter(pais_list)"
   ]
  },
  {
   "cell_type": "code",
   "execution_count": null,
   "id": "7ac2fb87",
   "metadata": {},
   "outputs": [],
   "source": [
    "set_difference = set(aer_pais_list) - set(pais_list)\n",
    "list_difference = list(set_difference)\n",
    "list_difference"
   ]
  },
  {
   "cell_type": "code",
   "execution_count": null,
   "id": "df427047",
   "metadata": {},
   "outputs": [],
   "source": [
    "df_aeropuertos.loc[df_aeropuertos.cod_pais == 'WAK','cod_pais'] = 'Z99'\n",
    "df_aeropuertos.loc[df_aeropuertos.cod_pais == 'SSD','cod_pais'] = 'Z99'"
   ]
  },
  {
   "cell_type": "code",
   "execution_count": null,
   "id": "405f1eb1",
   "metadata": {},
   "outputs": [],
   "source": [
    "df_aeropuertos_def = df_aeropuertos[['cod_aeropuerto','nombre_aeropuerto','ciudad_aeropuerto','pais_aeropuerto',\n",
    "                                    'cod_pais','cod_iata_faa','cod_icao','latitud','longitud','altitud','zona_horaria',\n",
    "                                     'dst','zona_horaria_tz']]"
   ]
  },
  {
   "cell_type": "code",
   "execution_count": null,
   "id": "5eaae290",
   "metadata": {
    "scrolled": false
   },
   "outputs": [],
   "source": [
    "df_aeropuertos_def.to_sql('DM_AEROPUERTOS', con = conn, if_exists = 'append', index=False)"
   ]
  },
  {
   "cell_type": "markdown",
   "id": "bb753faa",
   "metadata": {},
   "source": [
    "## Carga DM_AEROLINEAS"
   ]
  },
  {
   "cell_type": "code",
   "execution_count": null,
   "id": "0d097e0c",
   "metadata": {},
   "outputs": [],
   "source": [
    "df_aerolineas.head(10)"
   ]
  },
  {
   "cell_type": "code",
   "execution_count": null,
   "id": "9392d224",
   "metadata": {},
   "outputs": [],
   "source": [
    "df_aerolineas[df_aerolineas[\"pais_aerolinea\"].isnull()].head(10)"
   ]
  },
  {
   "cell_type": "code",
   "execution_count": null,
   "id": "d60360a2",
   "metadata": {},
   "outputs": [],
   "source": [
    "df_aerolineas[\"cod_iata\"] = df_aerolineas[\"cod_iata\"].fillna(\"Z9\")"
   ]
  },
  {
   "cell_type": "code",
   "execution_count": null,
   "id": "b572fd60",
   "metadata": {},
   "outputs": [],
   "source": [
    "df_aerolineas.loc[df_aerolineas.cod_iata == 'Z99','cod_iata'] = 'Z9'"
   ]
  },
  {
   "cell_type": "code",
   "execution_count": null,
   "id": "1f49c37d",
   "metadata": {},
   "outputs": [],
   "source": [
    "df_aerolineas.loc[df_aerolineas.sw_activa == 'Y', 'sw_activa'] = 1\n",
    "df_aerolineas.loc[df_aerolineas.sw_activa == 'N', 'sw_activa'] = 0"
   ]
  },
  {
   "cell_type": "code",
   "execution_count": null,
   "id": "252ecc23",
   "metadata": {},
   "outputs": [],
   "source": [
    "df_aerolineas.to_sql('DM_AEROLINEAS', con = conn, if_exists = 'append', index=False)"
   ]
  },
  {
   "cell_type": "markdown",
   "id": "13cc8f22",
   "metadata": {},
   "source": [
    "## Carga HC_RUTAS"
   ]
  },
  {
   "cell_type": "code",
   "execution_count": null,
   "id": "cc692170",
   "metadata": {},
   "outputs": [],
   "source": [
    "df_rutas = pd.read_json(\"input/rutas.json\")"
   ]
  },
  {
   "cell_type": "code",
   "execution_count": null,
   "id": "d0036c44",
   "metadata": {},
   "outputs": [],
   "source": [
    "df_rutas.head(2964)"
   ]
  },
  {
   "cell_type": "code",
   "execution_count": null,
   "id": "a1402931",
   "metadata": {},
   "outputs": [],
   "source": [
    "df_rutas[df_rutas['equipamiento'].isnull()].head(10)"
   ]
  },
  {
   "cell_type": "code",
   "execution_count": null,
   "id": "025302f9",
   "metadata": {},
   "outputs": [],
   "source": [
    "df_rutas.equipamiento = df_rutas.equipamiento.fillna('Z99')"
   ]
  },
  {
   "cell_type": "code",
   "execution_count": null,
   "id": "a2139e71",
   "metadata": {},
   "outputs": [],
   "source": [
    "df_db_aerolineas = pd.read_sql_query('select cod_aerolinea as cod_aerolinea from DM_AEROLINEAS', conn)"
   ]
  },
  {
   "cell_type": "code",
   "execution_count": null,
   "id": "fe247175",
   "metadata": {},
   "outputs": [],
   "source": [
    "aero_list = df_db_aerolineas.cod_aerolinea.unique().tolist()"
   ]
  },
  {
   "cell_type": "code",
   "execution_count": null,
   "id": "cc496092",
   "metadata": {},
   "outputs": [],
   "source": [
    "route_list = df_rutas.cod_aerolinea.unique().tolist()"
   ]
  },
  {
   "cell_type": "code",
   "execution_count": null,
   "id": "8da715c6",
   "metadata": {},
   "outputs": [],
   "source": [
    "set_difference = set(route_list) - set(aero_list)\n",
    "list_difference = list(set_difference)\n",
    "list_difference"
   ]
  },
  {
   "cell_type": "code",
   "execution_count": null,
   "id": "3a80490f",
   "metadata": {},
   "outputs": [],
   "source": [
    "df_rutas.loc[df_rutas.cod_aerolinea == '20410','cod_aerolinea'] = 'Z9999'"
   ]
  },
  {
   "cell_type": "code",
   "execution_count": null,
   "id": "19626afd",
   "metadata": {},
   "outputs": [],
   "source": [
    "df_rutas.head(15)"
   ]
  },
  {
   "cell_type": "code",
   "execution_count": null,
   "id": "0fba3f15",
   "metadata": {},
   "outputs": [],
   "source": [
    "df_rutas_def = df_rutas.drop('equipamiento',1)"
   ]
  },
  {
   "cell_type": "code",
   "execution_count": null,
   "id": "15e6ff22",
   "metadata": {},
   "outputs": [],
   "source": [
    "df_rutas_def = df_rutas_def[['cod_ruta','cod_aerolinea','cod_aeropuerto_ori','cod_aeropuerto_des']]"
   ]
  },
  {
   "cell_type": "code",
   "execution_count": null,
   "id": "af3b27a8",
   "metadata": {},
   "outputs": [],
   "source": [
    "df_rutas_def.to_sql('HC_RUTAS', con = conn, if_exists = 'append', index=False)"
   ]
  },
  {
   "cell_type": "markdown",
   "id": "3a1f335c",
   "metadata": {},
   "source": [
    "## Carga DM_EQUIPAMIENTOS"
   ]
  },
  {
   "cell_type": "code",
   "execution_count": null,
   "id": "b4d510ce",
   "metadata": {},
   "outputs": [],
   "source": [
    "df_equipamientos = pd.read_csv(\"input/equipamientos.csv\", sep=\";\")"
   ]
  },
  {
   "cell_type": "code",
   "execution_count": null,
   "id": "3f26f66d",
   "metadata": {},
   "outputs": [],
   "source": [
    "df_equipamientos = df_equipamientos.drop_duplicates(subset='cod_equipamiento', keep='first')"
   ]
  },
  {
   "cell_type": "code",
   "execution_count": null,
   "id": "5d1c52f8",
   "metadata": {},
   "outputs": [],
   "source": [
    "df_equipamientos"
   ]
  },
  {
   "cell_type": "code",
   "execution_count": null,
   "id": "7293142f",
   "metadata": {},
   "outputs": [],
   "source": [
    "df_equipamientos.to_sql('DM_EQUIPAMIENTOS', con = conn, if_exists = 'append', index=False)"
   ]
  },
  {
   "cell_type": "markdown",
   "id": "230669c0",
   "metadata": {},
   "source": [
    "## Carga CO_RUTAS_EQUIPAMIENTOS"
   ]
  },
  {
   "cell_type": "code",
   "execution_count": null,
   "id": "a209cfcd",
   "metadata": {},
   "outputs": [],
   "source": [
    "df_rutas_eq = df_rutas[['cod_ruta','equipamiento']]"
   ]
  },
  {
   "cell_type": "code",
   "execution_count": null,
   "id": "52238fc2",
   "metadata": {},
   "outputs": [],
   "source": [
    "lista_eq = df_rutas['equipamiento'].str.split(\" \")\n",
    "lista_eq"
   ]
  },
  {
   "cell_type": "code",
   "execution_count": null,
   "id": "dc551e88",
   "metadata": {},
   "outputs": [],
   "source": [
    "df_rutas_eq['lista_eq'] = lista_eq"
   ]
  },
  {
   "cell_type": "code",
   "execution_count": null,
   "id": "e12aebc9",
   "metadata": {},
   "outputs": [],
   "source": [
    "df_rutas_eq = df_rutas_eq.explode('lista_eq').drop('equipamiento',1)"
   ]
  },
  {
   "cell_type": "code",
   "execution_count": null,
   "id": "3d16c9cf",
   "metadata": {},
   "outputs": [],
   "source": [
    "df_rutas_eq[df_rutas_eq['cod_ruta'].isin([10903,10904,10905,10906])]"
   ]
  },
  {
   "cell_type": "code",
   "execution_count": null,
   "id": "fd62c125",
   "metadata": {},
   "outputs": [],
   "source": [
    "df_rutas_eq = df_rutas_eq.rename(columns = {'lista_eq':'cod_equipamiento'})"
   ]
  },
  {
   "cell_type": "code",
   "execution_count": null,
   "id": "3eb6f986",
   "metadata": {},
   "outputs": [],
   "source": [
    "df_rutas_eq.drop(df_rutas_eq.loc[df_rutas_eq['cod_ruta'] == \"Z9999\"].index,inplace = True)"
   ]
  },
  {
   "cell_type": "code",
   "execution_count": null,
   "id": "49a9696f",
   "metadata": {},
   "outputs": [],
   "source": [
    "df_rutas_eq.to_sql('CO_RUTAS_EQUIPAMIENTOS', con = conn, if_exists = 'append', index=False)"
   ]
  }
 ],
 "metadata": {
  "kernelspec": {
   "display_name": "Python 3",
   "language": "python",
   "name": "python3"
  },
  "language_info": {
   "codemirror_mode": {
    "name": "ipython",
    "version": 3
   },
   "file_extension": ".py",
   "mimetype": "text/x-python",
   "name": "python",
   "nbconvert_exporter": "python",
   "pygments_lexer": "ipython3",
   "version": "3.8.8"
  }
 },
 "nbformat": 4,
 "nbformat_minor": 5
}
